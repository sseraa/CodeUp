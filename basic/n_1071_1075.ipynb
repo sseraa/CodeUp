{
 "cells": [
  {
   "cell_type": "markdown",
   "metadata": {},
   "source": [
    "# Code up 100제"
   ]
  },
  {
   "cell_type": "code",
   "execution_count": 6,
   "metadata": {},
   "outputs": [
    {
     "name": "stdout",
     "output_type": "stream",
     "text": [
      "7 4 2 3 0 1 5 6 9 10 8\n",
      "7\n",
      "4\n",
      "2\n",
      "3\n"
     ]
    }
   ],
   "source": [
    "#1071\n",
    "num = list(map(int,input().split(' ')))\n",
    "for i in range(len(num)):\n",
    "    if num[i] != 0:\n",
    "        print(num[i])\n",
    "    else:\n",
    "        break"
   ]
  },
  {
   "cell_type": "code",
   "execution_count": 8,
   "metadata": {},
   "outputs": [
    {
     "name": "stdout",
     "output_type": "stream",
     "text": [
      "5\n",
      "1 2 3 4 5\n",
      "1\n",
      "2\n",
      "3\n",
      "4\n",
      "5\n"
     ]
    }
   ],
   "source": [
    "#1072\n",
    "num = int(input())\n",
    "integers = list(map(int,input().split(' ')))\n",
    "for i in range(num):\n",
    "    print(integers[i])"
   ]
  },
  {
   "cell_type": "code",
   "execution_count": 11,
   "metadata": {},
   "outputs": [
    {
     "name": "stdout",
     "output_type": "stream",
     "text": [
      "7 4 2 3 0 1 5 6 9 10 8\n",
      "7\n",
      "4\n",
      "2\n",
      "3\n"
     ]
    }
   ],
   "source": [
    "#1073\n",
    "nums = list(map(int,input().split(' ')))\n",
    "i = 0\n",
    "while nums[i] != 0:\n",
    "    try:\n",
    "        print(nums[i])\n",
    "        i += 1\n",
    "    except:\n",
    "        break"
   ]
  },
  {
   "cell_type": "code",
   "execution_count": 12,
   "metadata": {},
   "outputs": [
    {
     "name": "stdout",
     "output_type": "stream",
     "text": [
      "5\n",
      "5\n",
      "4\n",
      "3\n",
      "2\n",
      "1\n"
     ]
    }
   ],
   "source": [
    "#1074\n",
    "num = int(input())\n",
    "for i in range(num):\n",
    "    print(num-i)"
   ]
  },
  {
   "cell_type": "code",
   "execution_count": 16,
   "metadata": {},
   "outputs": [
    {
     "name": "stdout",
     "output_type": "stream",
     "text": [
      "5\n",
      "4\n",
      "3\n",
      "2\n",
      "1\n",
      "0\n"
     ]
    }
   ],
   "source": [
    "#1075\n",
    "num = int(input())\n",
    "while num >0:\n",
    "    print(num-1)\n",
    "    num -=1"
   ]
  },
  {
   "cell_type": "code",
   "execution_count": null,
   "metadata": {},
   "outputs": [],
   "source": []
  }
 ],
 "metadata": {
  "kernelspec": {
   "display_name": "Python 3",
   "language": "python",
   "name": "python3"
  },
  "language_info": {
   "codemirror_mode": {
    "name": "ipython",
    "version": 3
   },
   "file_extension": ".py",
   "mimetype": "text/x-python",
   "name": "python",
   "nbconvert_exporter": "python",
   "pygments_lexer": "ipython3",
   "version": "3.7.3"
  }
 },
 "nbformat": 4,
 "nbformat_minor": 2
}
