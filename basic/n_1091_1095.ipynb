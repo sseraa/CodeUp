{
 "cells": [
  {
   "cell_type": "markdown",
   "metadata": {},
   "source": [
    "# Code up 100제"
   ]
  },
  {
   "cell_type": "code",
   "execution_count": 25,
   "metadata": {},
   "outputs": [
    {
     "name": "stdout",
     "output_type": "stream",
     "text": [
      "1 -2 1 8\n",
      "-85\n"
     ]
    }
   ],
   "source": [
    "#1091\n",
    "a,m,d,n = map(int,input().split(' '))\n",
    "i=1\n",
    "while i <n:\n",
    "    a = a*m+d\n",
    "    i+=1\n",
    "print(a)"
   ]
  },
  {
   "cell_type": "code",
   "execution_count": 27,
   "metadata": {},
   "outputs": [
    {
     "name": "stdout",
     "output_type": "stream",
     "text": [
      "3 7 9\n",
      "63\n"
     ]
    }
   ],
   "source": [
    "#1092\n",
    "a,b,c = map(int,input().split(' '))\n",
    "day=1\n",
    "while True:\n",
    "    if day%a==0|day%b==0|day%c==0:\n",
    "        print(day)\n",
    "        break\n",
    "    else:\n",
    "        day +=1"
   ]
  },
  {
   "cell_type": "code",
   "execution_count": 13,
   "metadata": {},
   "outputs": [
    {
     "name": "stdout",
     "output_type": "stream",
     "text": [
      "10\n",
      "9 23 1 9 23 21 11 8 18 14 \n",
      "1 0 0 0 0 0 0 1 2 0 1 0 0 1 0 0 0 1 0 0 1 0 2 "
     ]
    }
   ],
   "source": [
    "#1093\n",
    "count = int(input())\n",
    "numbers = list(map(int,input().split()))\n",
    "count_dic ={}\n",
    "for num in numbers:\n",
    "    if num not in count_dic.keys():\n",
    "        count_dic[num] = 1\n",
    "    else:\n",
    "        count_dic[num] += 1\n",
    "for i in range(1,24):\n",
    "    if i not in count_dic.keys():\n",
    "        count_dic[i] = 0\n",
    "\n",
    "for i in range(1,24):\n",
    "    print(count_dic[i],end=' ')\n",
    "\n",
    "# count = int(input())\n",
    "# numbers = list(map(int,input().split()))\n",
    "\n",
    "# count_list =[]\n",
    "# for i in range(24):\n",
    "#     count_list.append(0)\n",
    "# for i in range(count):\n",
    "#     count_list[numbers[i]] +=1 #해당 인덱스에 갯수값 ++\n",
    "    \n",
    "# for i in range(1,24):\n",
    "#     print(count_list[i],end =' ')"
   ]
  },
  {
   "cell_type": "code",
   "execution_count": 19,
   "metadata": {},
   "outputs": [
    {
     "name": "stdout",
     "output_type": "stream",
     "text": [
      "10\n",
      "10 4 2 3 6 6 7 9 8 5\n",
      "5 8 9 7 6 6 3 2 4 10 "
     ]
    }
   ],
   "source": [
    "#1094\n",
    "count = int(input())\n",
    "numbers = list(map(int,input().split()))\n",
    "\n",
    "for num in reversed(numbers):\n",
    "    print(num, end=' ')"
   ]
  },
  {
   "cell_type": "code",
   "execution_count": 23,
   "metadata": {},
   "outputs": [
    {
     "name": "stdout",
     "output_type": "stream",
     "text": [
      "10\n",
      "10 4 2 3 6 6 7 9 8 5\n",
      "2\n"
     ]
    }
   ],
   "source": [
    "#1095\n",
    "count = int(input())\n",
    "numbers = list(map(int,input().split()))\n",
    "\n",
    "print(min(sorted(numbers))"
   ]
  }
 ],
 "metadata": {
  "kernelspec": {
   "display_name": "Python 3",
   "language": "python",
   "name": "python3"
  },
  "language_info": {
   "codemirror_mode": {
    "name": "ipython",
    "version": 3
   },
   "file_extension": ".py",
   "mimetype": "text/x-python",
   "name": "python",
   "nbconvert_exporter": "python",
   "pygments_lexer": "ipython3",
   "version": "3.7.3"
  }
 },
 "nbformat": 4,
 "nbformat_minor": 2
}
