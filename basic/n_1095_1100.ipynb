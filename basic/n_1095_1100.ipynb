{
 "cells": [
  {
   "cell_type": "markdown",
   "metadata": {},
   "source": [
    "# Code up 100제"
   ]
  },
  {
   "cell_type": "code",
   "execution_count": 37,
   "metadata": {},
   "outputs": [
    {
     "name": "stdout",
     "output_type": "stream",
     "text": [
      "5\n",
      "1 1\n",
      "2 2\n",
      "3 3\n",
      "4 4\n",
      "5 5\n",
      "1 0 0 0 0 0 0 0 0 0 0 0 0 0 0 0 0 0 0\n",
      "0 1 0 0 0 0 0 0 0 0 0 0 0 0 0 0 0 0 0\n",
      "0 0 1 0 0 0 0 0 0 0 0 0 0 0 0 0 0 0 0\n",
      "0 0 0 1 0 0 0 0 0 0 0 0 0 0 0 0 0 0 0\n",
      "0 0 0 0 1 0 0 0 0 0 0 0 0 0 0 0 0 0 0\n",
      "0 0 0 0 0 0 0 0 0 0 0 0 0 0 0 0 0 0 0\n",
      "0 0 0 0 0 0 0 0 0 0 0 0 0 0 0 0 0 0 0\n",
      "0 0 0 0 0 0 0 0 0 0 0 0 0 0 0 0 0 0 0\n",
      "0 0 0 0 0 0 0 0 0 0 0 0 0 0 0 0 0 0 0\n",
      "0 0 0 0 0 0 0 0 0 0 0 0 0 0 0 0 0 0 0\n",
      "0 0 0 0 0 0 0 0 0 0 0 0 0 0 0 0 0 0 0\n",
      "0 0 0 0 0 0 0 0 0 0 0 0 0 0 0 0 0 0 0\n",
      "0 0 0 0 0 0 0 0 0 0 0 0 0 0 0 0 0 0 0\n",
      "0 0 0 0 0 0 0 0 0 0 0 0 0 0 0 0 0 0 0\n",
      "0 0 0 0 0 0 0 0 0 0 0 0 0 0 0 0 0 0 0\n",
      "0 0 0 0 0 0 0 0 0 0 0 0 0 0 0 0 0 0 0\n",
      "0 0 0 0 0 0 0 0 0 0 0 0 0 0 0 0 0 0 0\n",
      "0 0 0 0 0 0 0 0 0 0 0 0 0 0 0 0 0 0 0\n",
      "0 0 0 0 0 0 0 0 0 0 0 0 0 0 0 0 0 0 0\n"
     ]
    }
   ],
   "source": [
    "#1096\n",
    "import numpy as np\n",
    "a = np.zeros(shape=(19,19),dtype=int)\n",
    "count = int(input())\n",
    "for i in range(count):\n",
    "    put = list(map(int,input().split()))\n",
    "    a[put[0]-1][put[1]-1] = 1\n",
    "\n",
    "for j in range(len(a)):\n",
    "    print(' '.join(map(str,a[j])))"
   ]
  },
  {
   "cell_type": "code",
   "execution_count": 27,
   "metadata": {},
   "outputs": [
    {
     "name": "stdout",
     "output_type": "stream",
     "text": [
      "3 7 9\n",
      "63\n"
     ]
    }
   ],
   "source": [
    "#1097\n",
    "import numpy as np\n",
    "a = np.zeros(shape=(19,19),dtype=int)\n",
    "for i in range(len(a)):\n",
    "    put = list(map(int,input().split()))\n",
    "    for j in range(len(a[i])):\n",
    "        a[i][j] = put[j]\n",
    "count = int(input())"
   ]
  },
  {
   "cell_type": "code",
   "execution_count": 42,
   "metadata": {},
   "outputs": [
    {
     "ename": "SyntaxError",
     "evalue": "invalid syntax (<ipython-input-42-28c61f801dd8>, line 3)",
     "output_type": "error",
     "traceback": [
      "\u001b[0;36m  File \u001b[0;32m\"<ipython-input-42-28c61f801dd8>\"\u001b[0;36m, line \u001b[0;32m3\u001b[0m\n\u001b[0;31m    temp[0][1] = put[k] for k in range(len(put))\u001b[0m\n\u001b[0m                          ^\u001b[0m\n\u001b[0;31mSyntaxError\u001b[0m\u001b[0;31m:\u001b[0m invalid syntax\n"
     ]
    }
   ],
   "source": [
    "put = [1,2,3,4,5]\n",
    "temp=np.zeros(shape=(19,19),dtype=int)\n",
    "temp[0][1] = put[k] for k in range(len(put))"
   ]
  },
  {
   "cell_type": "code",
   "execution_count": 13,
   "metadata": {},
   "outputs": [
    {
     "name": "stdout",
     "output_type": "stream",
     "text": [
      "10\n",
      "9 23 1 9 23 21 11 8 18 14 \n",
      "1 0 0 0 0 0 0 1 2 0 1 0 0 1 0 0 0 1 0 0 1 0 2 "
     ]
    }
   ],
   "source": [
    "#1093\n",
    "count = int(input())\n",
    "numbers = list(map(int,input().split()))\n",
    "count_dic ={}\n",
    "for num in numbers:\n",
    "    if num not in count_dic.keys():\n",
    "        count_dic[num] = 1\n",
    "    else:\n",
    "        count_dic[num] += 1\n",
    "for i in range(1,24):\n",
    "    if i not in count_dic.keys():\n",
    "        count_dic[i] = 0\n",
    "\n",
    "for i in range(1,24):\n",
    "    print(count_dic[i],end=' ')\n",
    "\n",
    "# count = int(input())\n",
    "# numbers = list(map(int,input().split()))\n",
    "\n",
    "# count_list =[]\n",
    "# for i in range(24):\n",
    "#     count_list.append(0)\n",
    "# for i in range(count):\n",
    "#     count_list[numbers[i]] +=1 #해당 인덱스에 갯수값 ++\n",
    "    \n",
    "# for i in range(1,24):\n",
    "#     print(count_list[i],end =' ')"
   ]
  },
  {
   "cell_type": "code",
   "execution_count": 19,
   "metadata": {},
   "outputs": [
    {
     "name": "stdout",
     "output_type": "stream",
     "text": [
      "10\n",
      "10 4 2 3 6 6 7 9 8 5\n",
      "5 8 9 7 6 6 3 2 4 10 "
     ]
    }
   ],
   "source": [
    "#1094\n",
    "count = int(input())\n",
    "numbers = list(map(int,input().split()))\n",
    "\n",
    "for num in reversed(numbers):\n",
    "    print(num, end=' ')"
   ]
  },
  {
   "cell_type": "code",
   "execution_count": 23,
   "metadata": {},
   "outputs": [
    {
     "name": "stdout",
     "output_type": "stream",
     "text": [
      "10\n",
      "10 4 2 3 6 6 7 9 8 5\n",
      "2\n"
     ]
    }
   ],
   "source": [
    "#1095\n",
    "count = int(input())\n",
    "numbers = list(map(int,input().split()))\n",
    "\n",
    "print(min(sorted(numbers))"
   ]
  }
 ],
 "metadata": {
  "kernelspec": {
   "display_name": "Python 3",
   "language": "python",
   "name": "python3"
  },
  "language_info": {
   "codemirror_mode": {
    "name": "ipython",
    "version": 3
   },
   "file_extension": ".py",
   "mimetype": "text/x-python",
   "name": "python",
   "nbconvert_exporter": "python",
   "pygments_lexer": "ipython3",
   "version": "3.7.3"
  }
 },
 "nbformat": 4,
 "nbformat_minor": 2
}
